{
 "cells": [
  {
   "cell_type": "markdown",
   "id": "8368a495-876f-45fa-8f97-6cdc249cdbba",
   "metadata": {},
   "source": [
    "# The Humanist’s Guide to Data Analysis Basics with Python"
   ]
  },
  {
   "cell_type": "markdown",
   "id": "42f8594d-4870-4ab5-8417-3ffb9dfa4c01",
   "metadata": {},
   "source": [
    "Welcome to the workshop!\n",
    "\n",
    "📋 First things first! Please enter your name and email address in the [attendance list](https://docs.google.com/forms/d/e/1FAIpQLSfpFb4gzKm2PXBllHp1QZ6-cxNZld7kzpavBwYulk8q8y-TbA/viewform?usp=dialog). This information will be used to issue a certificate of participation and send it to you. "
   ]
  },
  {
   "cell_type": "code",
   "execution_count": null,
   "id": "8502bec0-ee54-4e69-91e6-c9b652216e17",
   "metadata": {},
   "outputs": [],
   "source": []
  },
  {
   "cell_type": "code",
   "execution_count": null,
   "id": "95cde3fb-541b-42ad-a9ee-36a7a3110dc7",
   "metadata": {},
   "outputs": [],
   "source": []
  },
  {
   "cell_type": "markdown",
   "id": "b456b83c-c783-4dd9-b5c3-b7617207cafe",
   "metadata": {},
   "source": [
    "Thank you for your attention and your active participation!\n",
    "\n",
    "📋 Please take a couple of minutes to complete this survey. It will help me develop and teach similar material with higher quality in future. "
   ]
  }
 ],
 "metadata": {
  "kernelspec": {
   "display_name": "Python 3 (ipykernel)",
   "language": "python",
   "name": "python3"
  },
  "language_info": {
   "codemirror_mode": {
    "name": "ipython",
    "version": 3
   },
   "file_extension": ".py",
   "mimetype": "text/x-python",
   "name": "python",
   "nbconvert_exporter": "python",
   "pygments_lexer": "ipython3",
   "version": "3.10.6"
  }
 },
 "nbformat": 4,
 "nbformat_minor": 5
}
