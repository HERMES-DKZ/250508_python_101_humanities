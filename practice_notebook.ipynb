{
 "cells": [
  {
   "cell_type": "markdown",
   "id": "8368a495-876f-45fa-8f97-6cdc249cdbba",
   "metadata": {},
   "source": [
    "# The Humanist’s Guide to Data Analysis Basics with Python"
   ]
  },
  {
   "cell_type": "markdown",
   "id": "878b7ee0-389a-4838-b0ef-18f9edc95a71",
   "metadata": {},
   "source": [
    "## 08.05.2025 - Philipps-Universität Marburg"
   ]
  },
  {
   "cell_type": "markdown",
   "id": "42f8594d-4870-4ab5-8417-3ffb9dfa4c01",
   "metadata": {},
   "source": [
    "Welcome to the workshop!\n",
    "\n",
    "📋 First things first! Please enter your name and email address in the [attendance list](https://docs.google.com/forms/d/e/1FAIpQLSfpFb4gzKm2PXBllHp1QZ6-cxNZld7kzpavBwYulk8q8y-TbA/viewform?usp=dialog). This information will be used to issue a certificate of participation and send it to you. "
   ]
  },
  {
   "cell_type": "code",
   "execution_count": null,
   "id": "8502bec0-ee54-4e69-91e6-c9b652216e17",
   "metadata": {},
   "outputs": [],
   "source": [
    "import pandas as pd"
   ]
  },
  {
   "cell_type": "code",
   "execution_count": null,
   "id": "95cde3fb-541b-42ad-a9ee-36a7a3110dc7",
   "metadata": {},
   "outputs": [],
   "source": [
    "a_number = 12\n",
    "print (a_number)"
   ]
  },
  {
   "cell_type": "code",
   "execution_count": null,
   "id": "e1318e9d-b366-43d9-8366-31bd10d6f2e5",
   "metadata": {},
   "outputs": [],
   "source": [
    "a_string= \"This is a string, consisting of numbers (like 13), letthers and other signs!\"\n",
    "# YOUR CODE HERE"
   ]
  },
  {
   "cell_type": "code",
   "execution_count": null,
   "id": "b381e1f8-440d-4791-a720-002b8565d2d6",
   "metadata": {},
   "outputs": [],
   "source": [
    "data_path= 'https://raw.githubusercontent.com/HERMES-DKZ/python_101_humanities/main/episodes/data/moma_artworks.csv'"
   ]
  },
  {
   "cell_type": "code",
   "execution_count": null,
   "id": "e6528c70-5c46-47da-92f0-dd6a7ff8c673",
   "metadata": {},
   "outputs": [],
   "source": [
    "moma_df= pd.read_csv(data_path)\n",
    "moma_df"
   ]
  },
  {
   "cell_type": "code",
   "execution_count": null,
   "id": "071c260c-423b-4921-93f7-b4ff550efd63",
   "metadata": {},
   "outputs": [],
   "source": [
    "moma_df.info()"
   ]
  },
  {
   "cell_type": "code",
   "execution_count": null,
   "id": "87fe4deb-5317-4e8c-b9ed-6191924d1dda",
   "metadata": {},
   "outputs": [],
   "source": []
  },
  {
   "cell_type": "markdown",
   "id": "b456b83c-c783-4dd9-b5c3-b7617207cafe",
   "metadata": {},
   "source": [
    "Thank you for your attention and your active participation!\n",
    "\n",
    "📋 Please take a couple of minutes to complete this survey. It will help me develop and teach similar material with higher quality in future. "
   ]
  }
 ],
 "metadata": {
  "kernelspec": {
   "display_name": "Python 3 (ipykernel)",
   "language": "python",
   "name": "python3"
  },
  "language_info": {
   "codemirror_mode": {
    "name": "ipython",
    "version": 3
   },
   "file_extension": ".py",
   "mimetype": "text/x-python",
   "name": "python",
   "nbconvert_exporter": "python",
   "pygments_lexer": "ipython3",
   "version": "3.10.6"
  }
 },
 "nbformat": 4,
 "nbformat_minor": 5
}
