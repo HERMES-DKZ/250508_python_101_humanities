{
 "cells": [
  {
   "cell_type": "markdown",
   "id": "8368a495-876f-45fa-8f97-6cdc249cdbba",
   "metadata": {},
   "source": [
    "# The Humanist’s Guide to Data Analysis Basics with Python"
   ]
  },
  {
   "cell_type": "markdown",
   "id": "878b7ee0-389a-4838-b0ef-18f9edc95a71",
   "metadata": {},
   "source": [
    "## 08.05.2025 - Philipps-Universität Marburg"
   ]
  },
  {
   "cell_type": "markdown",
   "id": "42f8594d-4870-4ab5-8417-3ffb9dfa4c01",
   "metadata": {},
   "source": [
    "Welcome to the workshop!\n",
    "\n",
    "📋 First things first! Please enter your name and email address in the [attendance list](https://docs.google.com/forms/d/e/1FAIpQLSfpFb4gzKm2PXBllHp1QZ6-cxNZld7kzpavBwYulk8q8y-TbA/viewform?usp=dialog). This information will be used to issue a certificate of participation and send it to you after the workshop. "
   ]
  },
  {
   "cell_type": "code",
   "execution_count": null,
   "id": "8502bec0-ee54-4e69-91e6-c9b652216e17",
   "metadata": {},
   "outputs": [],
   "source": [
    "import pandas as pd"
   ]
  },
  {
   "cell_type": "code",
   "execution_count": null,
   "id": "95cde3fb-541b-42ad-a9ee-36a7a3110dc7",
   "metadata": {},
   "outputs": [],
   "source": [
    "a_number = 12\n",
    "a_number"
   ]
  },
  {
   "cell_type": "code",
   "execution_count": null,
   "id": "e1318e9d-b366-43d9-8366-31bd10d6f2e5",
   "metadata": {},
   "outputs": [],
   "source": [
    "a_string= \"This is a string, consisting of numbers (like 13), letters and other signs!\"\n",
    "# YOUR CODE HERE"
   ]
  },
  {
   "cell_type": "code",
   "execution_count": null,
   "id": "b381e1f8-440d-4791-a720-002b8565d2d6",
   "metadata": {},
   "outputs": [],
   "source": [
    "data_path= 'https://raw.githubusercontent.com/HERMES-DKZ/python_101_humanities/main/episodes/data/moma_artworks.csv'"
   ]
  },
  {
   "cell_type": "code",
   "execution_count": null,
   "id": "e6528c70-5c46-47da-92f0-dd6a7ff8c673",
   "metadata": {
    "scrolled": true
   },
   "outputs": [],
   "source": [
    "moma_df= pd.read_csv(data_path)\n",
    "moma_df"
   ]
  },
  {
   "cell_type": "code",
   "execution_count": null,
   "id": "7e933a77-3c8a-434d-8037-83003ca34826",
   "metadata": {
    "scrolled": true
   },
   "outputs": [],
   "source": [
    "moma_df.head()"
   ]
  },
  {
   "cell_type": "markdown",
   "id": "774ec29e-a9e4-42d3-b624-02a993552405",
   "metadata": {},
   "source": [
    "Try writing the pseudocode for the steps we have taken so far. It helps you better understand how to plan your analysis and communicate with the commputer through each step."
   ]
  },
  {
   "cell_type": "code",
   "execution_count": null,
   "id": "071c260c-423b-4921-93f7-b4ff550efd63",
   "metadata": {},
   "outputs": [],
   "source": [
    "\"\"\"\n",
    "YOUR PSEUDOCODE HERE:\n",
    "\n",
    "1. \n",
    "2. \n",
    "3. \n",
    "4. \n",
    "5.\n",
    "\n",
    "\"\"\""
   ]
  },
  {
   "cell_type": "markdown",
   "id": "b5a453fd-5def-4688-8c73-49dd5d073ce6",
   "metadata": {},
   "source": [
    "Now, match each step from the pseudocode with its corresponding line of Python code from the previous cells, and enter it in the appropriate place in the cell below:"
   ]
  },
  {
   "cell_type": "code",
   "execution_count": null,
   "id": "d79341c1-90fd-42cf-bd98-318024363684",
   "metadata": {},
   "outputs": [],
   "source": [
    "# Step 1:\n",
    "# YOUR CODE HERE\n",
    "\n",
    "# Step 1:\n",
    "# YOUR CODE HERE\n",
    "\n",
    "# Step 3:\n",
    "# YOUR CODE HERE\n",
    "\n",
    "# Step 4:\n",
    "# YOUR CODE HERE\n",
    "\n",
    "# Step 5:\n",
    "# YOUR CODE HERE"
   ]
  },
  {
   "cell_type": "markdown",
   "id": "1196420b-50d0-4aa0-9ee7-5a6d87a85ce3",
   "metadata": {},
   "source": [
    "Apply the method `.info()` to `moma_df`:"
   ]
  },
  {
   "cell_type": "code",
   "execution_count": null,
   "id": "129dcdcb-a6fb-4fd2-9b76-9a4fde4979ca",
   "metadata": {},
   "outputs": [],
   "source": [
    "# YOUR CODE HERE"
   ]
  },
  {
   "cell_type": "markdown",
   "id": "a89dd3be-edbb-4850-a160-4b295f94c1ee",
   "metadata": {},
   "source": [
    "We want to identify all the artist names in the DataFrame and determine how many works by each artist are included in MoMA's collection. How should we proceed? Break the task down into single steps and write the pseudocode for each step:"
   ]
  },
  {
   "cell_type": "code",
   "execution_count": null,
   "id": "70b105ae-5ba8-48dd-87b5-001ccbe77504",
   "metadata": {},
   "outputs": [],
   "source": [
    "\"\"\"\n",
    "YOUR PSEUDOCODE HERE:\n",
    "\n",
    "1. \n",
    "2. \n",
    "3. \n",
    "4. \n",
    "5.\n",
    "\n",
    "\"\"\""
   ]
  },
  {
   "cell_type": "code",
   "execution_count": null,
   "id": "0c7dffdb-bcae-45ba-9614-110ab1345aa7",
   "metadata": {},
   "outputs": [],
   "source": []
  },
  {
   "cell_type": "code",
   "execution_count": null,
   "id": "e39b5ecc-0884-491d-ae54-546e77d44e47",
   "metadata": {},
   "outputs": [],
   "source": []
  },
  {
   "cell_type": "code",
   "execution_count": null,
   "id": "65882b3a-06f3-4876-9a39-3442cf5a8019",
   "metadata": {},
   "outputs": [],
   "source": []
  },
  {
   "cell_type": "code",
   "execution_count": null,
   "id": "168b906a-f600-456e-95a7-6aa156d4e554",
   "metadata": {},
   "outputs": [],
   "source": []
  },
  {
   "cell_type": "markdown",
   "id": "b456b83c-c783-4dd9-b5c3-b7617207cafe",
   "metadata": {},
   "source": [
    "Thank you for your attention and your active participation!\n",
    "\n",
    "📋 Please take a couple of minutes to complete this survey. It will help me develop and teach similar material with higher quality in future. "
   ]
  }
 ],
 "metadata": {
  "kernelspec": {
   "display_name": "Python 3 (ipykernel)",
   "language": "python",
   "name": "python3"
  },
  "language_info": {
   "codemirror_mode": {
    "name": "ipython",
    "version": 3
   },
   "file_extension": ".py",
   "mimetype": "text/x-python",
   "name": "python",
   "nbconvert_exporter": "python",
   "pygments_lexer": "ipython3",
   "version": "3.10.6"
  }
 },
 "nbformat": 4,
 "nbformat_minor": 5
}
